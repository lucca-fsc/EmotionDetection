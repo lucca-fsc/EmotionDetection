{
  "cells": [
    {
      "cell_type": "markdown",
      "metadata": {
        "id": "view-in-github",
        "colab_type": "text"
      },
      "source": [
        "<a href=\"https://colab.research.google.com/github/lucca-fsc/EmotionDetection/blob/main/Sentiment_Analysis_with_SkLearn.ipynb\" target=\"_parent\"><img src=\"https://colab.research.google.com/assets/colab-badge.svg\" alt=\"Open In Colab\"/></a>"
      ]
    },
    {
      "cell_type": "markdown",
      "metadata": {
        "id": "_izshM6jiY40"
      },
      "source": [
        "# Sentiment Analysis with SkLearn\n"
      ]
    },
    {
      "cell_type": "code",
      "execution_count": 1,
      "metadata": {
        "id": "ZiQfCwAzipz6"
      },
      "outputs": [],
      "source": [
        "import pandas as pd\n",
        "import numpy as np\n",
        "import matplotlib.pyplot as plt\n"
      ]
    },
    {
      "cell_type": "code",
      "execution_count": 2,
      "metadata": {
        "colab": {
          "base_uri": "https://localhost:8080/"
        },
        "id": "8Nhy2KCNjKvZ",
        "outputId": "bedaea08-1569-4d2b-e61d-9910aaaf9782"
      },
      "outputs": [
        {
          "output_type": "stream",
          "name": "stdout",
          "text": [
            "Cloning into 'IMDB-Movie-Reviews-Large-Dataset-50k'...\n",
            "remote: Enumerating objects: 10, done.\u001b[K\n",
            "remote: Counting objects: 100% (10/10), done.\u001b[K\n",
            "remote: Compressing objects: 100% (8/8), done.\u001b[K\n",
            "remote: Total 10 (delta 1), reused 0 (delta 0), pack-reused 0\u001b[K\n",
            "Unpacking objects: 100% (10/10), done.\n"
          ]
        }
      ],
      "source": [
        "!git clone https://github.com/laxmimerit/IMDB-Movie-Reviews-Large-Dataset-50k.git"
      ]
    },
    {
      "cell_type": "code",
      "execution_count": 3,
      "metadata": {
        "id": "8zVDNLyzjcqr"
      },
      "outputs": [],
      "source": [
        "df = pd.read_excel('/content/IMDB-Movie-Reviews-Large-Dataset-50k/train.xlsx')"
      ]
    },
    {
      "cell_type": "markdown",
      "metadata": {
        "id": "-RXzrq_-jlr3"
      },
      "source": [
        "## TFIDF\n"
      ]
    },
    {
      "cell_type": "code",
      "execution_count": 4,
      "metadata": {
        "id": "5uDSmkcEjoeQ"
      },
      "outputs": [],
      "source": [
        "from sklearn.feature_extraction.text import TfidfVectorizer\n",
        "from sklearn.model_selection import train_test_split\n",
        "from sklearn.svm import LinearSVC\n",
        "from sklearn.metrics import classification_report\n",
        "from sklearn.metrics import confusion_matrix\n",
        "from sklearn.metrics import plot_confusion_matrix\n",
        "from sklearn.metrics import accuracy_score"
      ]
    },
    {
      "cell_type": "code",
      "execution_count": 5,
      "metadata": {
        "colab": {
          "base_uri": "https://localhost:8080/",
          "height": 206
        },
        "id": "gyP8gGWDj9yt",
        "outputId": "0a450c3b-5131-48cf-f560-8df781c76835"
      },
      "outputs": [
        {
          "output_type": "execute_result",
          "data": {
            "text/plain": [
              "                                             Reviews Sentiment\n",
              "0  When I first tuned in on this morning news, I ...       neg\n",
              "1  Mere thoughts of \"Going Overboard\" (aka \"Babes...       neg\n",
              "2  Why does this movie fall WELL below standards?...       neg\n",
              "3  Wow and I thought that any Steven Segal movie ...       neg\n",
              "4  The story is seen before, but that does'n matt...       neg"
            ],
            "text/html": [
              "\n",
              "  <div id=\"df-f36c7879-c87a-4017-bc4e-353928743157\">\n",
              "    <div class=\"colab-df-container\">\n",
              "      <div>\n",
              "<style scoped>\n",
              "    .dataframe tbody tr th:only-of-type {\n",
              "        vertical-align: middle;\n",
              "    }\n",
              "\n",
              "    .dataframe tbody tr th {\n",
              "        vertical-align: top;\n",
              "    }\n",
              "\n",
              "    .dataframe thead th {\n",
              "        text-align: right;\n",
              "    }\n",
              "</style>\n",
              "<table border=\"1\" class=\"dataframe\">\n",
              "  <thead>\n",
              "    <tr style=\"text-align: right;\">\n",
              "      <th></th>\n",
              "      <th>Reviews</th>\n",
              "      <th>Sentiment</th>\n",
              "    </tr>\n",
              "  </thead>\n",
              "  <tbody>\n",
              "    <tr>\n",
              "      <th>0</th>\n",
              "      <td>When I first tuned in on this morning news, I ...</td>\n",
              "      <td>neg</td>\n",
              "    </tr>\n",
              "    <tr>\n",
              "      <th>1</th>\n",
              "      <td>Mere thoughts of \"Going Overboard\" (aka \"Babes...</td>\n",
              "      <td>neg</td>\n",
              "    </tr>\n",
              "    <tr>\n",
              "      <th>2</th>\n",
              "      <td>Why does this movie fall WELL below standards?...</td>\n",
              "      <td>neg</td>\n",
              "    </tr>\n",
              "    <tr>\n",
              "      <th>3</th>\n",
              "      <td>Wow and I thought that any Steven Segal movie ...</td>\n",
              "      <td>neg</td>\n",
              "    </tr>\n",
              "    <tr>\n",
              "      <th>4</th>\n",
              "      <td>The story is seen before, but that does'n matt...</td>\n",
              "      <td>neg</td>\n",
              "    </tr>\n",
              "  </tbody>\n",
              "</table>\n",
              "</div>\n",
              "      <button class=\"colab-df-convert\" onclick=\"convertToInteractive('df-f36c7879-c87a-4017-bc4e-353928743157')\"\n",
              "              title=\"Convert this dataframe to an interactive table.\"\n",
              "              style=\"display:none;\">\n",
              "        \n",
              "  <svg xmlns=\"http://www.w3.org/2000/svg\" height=\"24px\"viewBox=\"0 0 24 24\"\n",
              "       width=\"24px\">\n",
              "    <path d=\"M0 0h24v24H0V0z\" fill=\"none\"/>\n",
              "    <path d=\"M18.56 5.44l.94 2.06.94-2.06 2.06-.94-2.06-.94-.94-2.06-.94 2.06-2.06.94zm-11 1L8.5 8.5l.94-2.06 2.06-.94-2.06-.94L8.5 2.5l-.94 2.06-2.06.94zm10 10l.94 2.06.94-2.06 2.06-.94-2.06-.94-.94-2.06-.94 2.06-2.06.94z\"/><path d=\"M17.41 7.96l-1.37-1.37c-.4-.4-.92-.59-1.43-.59-.52 0-1.04.2-1.43.59L10.3 9.45l-7.72 7.72c-.78.78-.78 2.05 0 2.83L4 21.41c.39.39.9.59 1.41.59.51 0 1.02-.2 1.41-.59l7.78-7.78 2.81-2.81c.8-.78.8-2.07 0-2.86zM5.41 20L4 18.59l7.72-7.72 1.47 1.35L5.41 20z\"/>\n",
              "  </svg>\n",
              "      </button>\n",
              "      \n",
              "  <style>\n",
              "    .colab-df-container {\n",
              "      display:flex;\n",
              "      flex-wrap:wrap;\n",
              "      gap: 12px;\n",
              "    }\n",
              "\n",
              "    .colab-df-convert {\n",
              "      background-color: #E8F0FE;\n",
              "      border: none;\n",
              "      border-radius: 50%;\n",
              "      cursor: pointer;\n",
              "      display: none;\n",
              "      fill: #1967D2;\n",
              "      height: 32px;\n",
              "      padding: 0 0 0 0;\n",
              "      width: 32px;\n",
              "    }\n",
              "\n",
              "    .colab-df-convert:hover {\n",
              "      background-color: #E2EBFA;\n",
              "      box-shadow: 0px 1px 2px rgba(60, 64, 67, 0.3), 0px 1px 3px 1px rgba(60, 64, 67, 0.15);\n",
              "      fill: #174EA6;\n",
              "    }\n",
              "\n",
              "    [theme=dark] .colab-df-convert {\n",
              "      background-color: #3B4455;\n",
              "      fill: #D2E3FC;\n",
              "    }\n",
              "\n",
              "    [theme=dark] .colab-df-convert:hover {\n",
              "      background-color: #434B5C;\n",
              "      box-shadow: 0px 1px 3px 1px rgba(0, 0, 0, 0.15);\n",
              "      filter: drop-shadow(0px 1px 2px rgba(0, 0, 0, 0.3));\n",
              "      fill: #FFFFFF;\n",
              "    }\n",
              "  </style>\n",
              "\n",
              "      <script>\n",
              "        const buttonEl =\n",
              "          document.querySelector('#df-f36c7879-c87a-4017-bc4e-353928743157 button.colab-df-convert');\n",
              "        buttonEl.style.display =\n",
              "          google.colab.kernel.accessAllowed ? 'block' : 'none';\n",
              "\n",
              "        async function convertToInteractive(key) {\n",
              "          const element = document.querySelector('#df-f36c7879-c87a-4017-bc4e-353928743157');\n",
              "          const dataTable =\n",
              "            await google.colab.kernel.invokeFunction('convertToInteractive',\n",
              "                                                     [key], {});\n",
              "          if (!dataTable) return;\n",
              "\n",
              "          const docLinkHtml = 'Like what you see? Visit the ' +\n",
              "            '<a target=\"_blank\" href=https://colab.research.google.com/notebooks/data_table.ipynb>data table notebook</a>'\n",
              "            + ' to learn more about interactive tables.';\n",
              "          element.innerHTML = '';\n",
              "          dataTable['output_type'] = 'display_data';\n",
              "          await google.colab.output.renderOutput(dataTable, element);\n",
              "          const docLink = document.createElement('div');\n",
              "          docLink.innerHTML = docLinkHtml;\n",
              "          element.appendChild(docLink);\n",
              "        }\n",
              "      </script>\n",
              "    </div>\n",
              "  </div>\n",
              "  "
            ]
          },
          "metadata": {},
          "execution_count": 5
        }
      ],
      "source": [
        "df.head()"
      ]
    },
    {
      "cell_type": "code",
      "execution_count": 6,
      "metadata": {
        "colab": {
          "base_uri": "https://localhost:8080/"
        },
        "id": "8GLvKvgNkFpp",
        "outputId": "5c43ad2d-8673-434f-d3cb-4b0197615556"
      },
      "outputs": [
        {
          "output_type": "stream",
          "name": "stdout",
          "text": [
            "Collecting git+https://github.com/laxmimerit/preprocess_kgptalkie.git\n",
            "  Cloning https://github.com/laxmimerit/preprocess_kgptalkie.git to /tmp/pip-req-build-gd3qz4v9\n",
            "  Running command git clone -q https://github.com/laxmimerit/preprocess_kgptalkie.git /tmp/pip-req-build-gd3qz4v9\n",
            "Building wheels for collected packages: preprocess-kgptalkie\n",
            "  Building wheel for preprocess-kgptalkie (setup.py) ... \u001b[?25l\u001b[?25hdone\n",
            "  Created wheel for preprocess-kgptalkie: filename=preprocess_kgptalkie-0.1.3-py3-none-any.whl size=11756 sha256=bc3e06638869447890e4afd22fae3d614bb98521a6f3f40c0918b64be43a6470\n",
            "  Stored in directory: /tmp/pip-ephem-wheel-cache-iy7ni8yf/wheels/0d/b3/29/bfe3deffda68980088d17b81331be6667e837ffb4a071bae82\n",
            "Successfully built preprocess-kgptalkie\n",
            "Installing collected packages: preprocess-kgptalkie\n",
            "Successfully installed preprocess-kgptalkie-0.1.3\n"
          ]
        }
      ],
      "source": [
        "!pip install git+https://github.com/laxmimerit/preprocess_kgptalkie.git --upgrade --force-reinstall"
      ]
    },
    {
      "cell_type": "code",
      "execution_count": 7,
      "metadata": {
        "id": "uPWKjuqa6XVj"
      },
      "outputs": [],
      "source": [
        "from gensim.parsing.preprocessing import remove_stopwords"
      ]
    },
    {
      "cell_type": "code",
      "execution_count": 8,
      "metadata": {
        "colab": {
          "base_uri": "https://localhost:8080/"
        },
        "id": "V0TUf5f16tZK",
        "outputId": "8811547e-567b-421b-feb9-e672a4d4589d"
      },
      "outputs": [
        {
          "output_type": "stream",
          "name": "stdout",
          "text": [
            "Restaurant good service!!\n",
            "I like food!!\n",
            "This product good\n"
          ]
        }
      ],
      "source": [
        "print(remove_stopwords(\"Restaurant had a really good service!!\"))\n",
        "print(remove_stopwords(\"I did not like the food!!\"))\n",
        "print(remove_stopwords(\"This product is not good\"))"
      ]
    },
    {
      "cell_type": "code",
      "execution_count": 9,
      "metadata": {
        "colab": {
          "base_uri": "https://localhost:8080/"
        },
        "id": "cnuf9nH077f2",
        "outputId": "4e10e515-122b-428d-aafd-4a9fa5f3a2cb"
      },
      "outputs": [
        {
          "output_type": "stream",
          "name": "stdout",
          "text": [
            "Splitting line by space:\n",
            "['Restaurant', 'had', 'a', 'really', 'good', 'service!!']\n"
          ]
        }
      ],
      "source": [
        "line = \"Restaurant had a really good service!!\"\n",
        "print(\"Splitting line by space:\")\n",
        "print(line.split(\" \"))"
      ]
    },
    {
      "cell_type": "code",
      "execution_count": 10,
      "metadata": {
        "colab": {
          "base_uri": "https://localhost:8080/"
        },
        "id": "tRC29uCX7fI-",
        "outputId": "47276c2f-058f-4b8b-ed67-f8e61364d765"
      },
      "outputs": [
        {
          "output_type": "stream",
          "name": "stdout",
          "text": [
            "Splitting with regex:\n",
            "['Restaurant', 'had', 'a', 'really', 'good', 'service!!']\n"
          ]
        }
      ],
      "source": [
        "import re\n",
        "line = \"Restaurant had a really good service!!\"\n",
        "print(\"Splitting with regex:\")\n",
        "print(re.sub(' +', ' ', line).strip().split(\" \"))"
      ]
    },
    {
      "cell_type": "code",
      "execution_count": 11,
      "metadata": {
        "colab": {
          "base_uri": "https://localhost:8080/"
        },
        "id": "eRBTktDy8Ryi",
        "outputId": "31ca0838-59ac-4503-e1fe-d524147f6d11"
      },
      "outputs": [
        {
          "output_type": "stream",
          "name": "stdout",
          "text": [
            "tokenize function to get the tokens: \n",
            "['Restaurant', 'had', 'a', 'really', 'good', 'service']\n"
          ]
        }
      ],
      "source": [
        "from gensim.utils import tokenize\n",
        "line = \"Restaurant had a really good service!!\"\n",
        "print(\"tokenize function to get the tokens: \")\n",
        "print(list(tokenize(line, deacc=True)))"
      ]
    },
    {
      "cell_type": "code",
      "execution_count": 12,
      "metadata": {
        "id": "6HELvff-kwjB"
      },
      "outputs": [],
      "source": [
        "import  preprocess_kgptalkie as ps\n",
        "import re\n",
        "\n",
        "def get_clean(x):\n",
        "    x = str(x).lower().replace('\\\\', '').replace('_', ' ')\n",
        "    x = ps.cont_exp(x)\n",
        "    x = ps.remove_emails(x)\n",
        "    x = ps.remove_urls(x)\n",
        "    x = ps.remove_html_tags(x)\n",
        "    x = ps.remove_rt(x)\n",
        "    x = ps.remove_accented_chars(x)\n",
        "    x = ps.remove_special_chars(x)\n",
        "    x = re.sub(\"(.)\\\\1{2,}\", \"\\\\1\", x)\n",
        "    return x"
      ]
    },
    {
      "cell_type": "code",
      "execution_count": 13,
      "metadata": {
        "id": "sGe0Oeo8k-uA"
      },
      "outputs": [],
      "source": [
        "df['Reviews'] = df['Reviews'].apply(lambda x: get_clean(x))"
      ]
    },
    {
      "cell_type": "code",
      "execution_count": 14,
      "metadata": {
        "colab": {
          "base_uri": "https://localhost:8080/",
          "height": 206
        },
        "id": "kHXHP-cjmhu5",
        "outputId": "87b13d53-8f43-4229-c501-1371fb518dda"
      },
      "outputs": [
        {
          "output_type": "execute_result",
          "data": {
            "text/plain": [
              "                                             Reviews Sentiment\n",
              "0  when i first tuned in on this morning news i t...       neg\n",
              "1  mere thoughts of going overboard aka babes aho...       neg\n",
              "2  why does this movie fall well below standards ...       neg\n",
              "3  wow and i thought that any steven segal movie ...       neg\n",
              "4  the story is seen before but that doesand matt...       neg"
            ],
            "text/html": [
              "\n",
              "  <div id=\"df-2cdf3af5-a189-48d9-9119-c25b3c94bb49\">\n",
              "    <div class=\"colab-df-container\">\n",
              "      <div>\n",
              "<style scoped>\n",
              "    .dataframe tbody tr th:only-of-type {\n",
              "        vertical-align: middle;\n",
              "    }\n",
              "\n",
              "    .dataframe tbody tr th {\n",
              "        vertical-align: top;\n",
              "    }\n",
              "\n",
              "    .dataframe thead th {\n",
              "        text-align: right;\n",
              "    }\n",
              "</style>\n",
              "<table border=\"1\" class=\"dataframe\">\n",
              "  <thead>\n",
              "    <tr style=\"text-align: right;\">\n",
              "      <th></th>\n",
              "      <th>Reviews</th>\n",
              "      <th>Sentiment</th>\n",
              "    </tr>\n",
              "  </thead>\n",
              "  <tbody>\n",
              "    <tr>\n",
              "      <th>0</th>\n",
              "      <td>when i first tuned in on this morning news i t...</td>\n",
              "      <td>neg</td>\n",
              "    </tr>\n",
              "    <tr>\n",
              "      <th>1</th>\n",
              "      <td>mere thoughts of going overboard aka babes aho...</td>\n",
              "      <td>neg</td>\n",
              "    </tr>\n",
              "    <tr>\n",
              "      <th>2</th>\n",
              "      <td>why does this movie fall well below standards ...</td>\n",
              "      <td>neg</td>\n",
              "    </tr>\n",
              "    <tr>\n",
              "      <th>3</th>\n",
              "      <td>wow and i thought that any steven segal movie ...</td>\n",
              "      <td>neg</td>\n",
              "    </tr>\n",
              "    <tr>\n",
              "      <th>4</th>\n",
              "      <td>the story is seen before but that doesand matt...</td>\n",
              "      <td>neg</td>\n",
              "    </tr>\n",
              "  </tbody>\n",
              "</table>\n",
              "</div>\n",
              "      <button class=\"colab-df-convert\" onclick=\"convertToInteractive('df-2cdf3af5-a189-48d9-9119-c25b3c94bb49')\"\n",
              "              title=\"Convert this dataframe to an interactive table.\"\n",
              "              style=\"display:none;\">\n",
              "        \n",
              "  <svg xmlns=\"http://www.w3.org/2000/svg\" height=\"24px\"viewBox=\"0 0 24 24\"\n",
              "       width=\"24px\">\n",
              "    <path d=\"M0 0h24v24H0V0z\" fill=\"none\"/>\n",
              "    <path d=\"M18.56 5.44l.94 2.06.94-2.06 2.06-.94-2.06-.94-.94-2.06-.94 2.06-2.06.94zm-11 1L8.5 8.5l.94-2.06 2.06-.94-2.06-.94L8.5 2.5l-.94 2.06-2.06.94zm10 10l.94 2.06.94-2.06 2.06-.94-2.06-.94-.94-2.06-.94 2.06-2.06.94z\"/><path d=\"M17.41 7.96l-1.37-1.37c-.4-.4-.92-.59-1.43-.59-.52 0-1.04.2-1.43.59L10.3 9.45l-7.72 7.72c-.78.78-.78 2.05 0 2.83L4 21.41c.39.39.9.59 1.41.59.51 0 1.02-.2 1.41-.59l7.78-7.78 2.81-2.81c.8-.78.8-2.07 0-2.86zM5.41 20L4 18.59l7.72-7.72 1.47 1.35L5.41 20z\"/>\n",
              "  </svg>\n",
              "      </button>\n",
              "      \n",
              "  <style>\n",
              "    .colab-df-container {\n",
              "      display:flex;\n",
              "      flex-wrap:wrap;\n",
              "      gap: 12px;\n",
              "    }\n",
              "\n",
              "    .colab-df-convert {\n",
              "      background-color: #E8F0FE;\n",
              "      border: none;\n",
              "      border-radius: 50%;\n",
              "      cursor: pointer;\n",
              "      display: none;\n",
              "      fill: #1967D2;\n",
              "      height: 32px;\n",
              "      padding: 0 0 0 0;\n",
              "      width: 32px;\n",
              "    }\n",
              "\n",
              "    .colab-df-convert:hover {\n",
              "      background-color: #E2EBFA;\n",
              "      box-shadow: 0px 1px 2px rgba(60, 64, 67, 0.3), 0px 1px 3px 1px rgba(60, 64, 67, 0.15);\n",
              "      fill: #174EA6;\n",
              "    }\n",
              "\n",
              "    [theme=dark] .colab-df-convert {\n",
              "      background-color: #3B4455;\n",
              "      fill: #D2E3FC;\n",
              "    }\n",
              "\n",
              "    [theme=dark] .colab-df-convert:hover {\n",
              "      background-color: #434B5C;\n",
              "      box-shadow: 0px 1px 3px 1px rgba(0, 0, 0, 0.15);\n",
              "      filter: drop-shadow(0px 1px 2px rgba(0, 0, 0, 0.3));\n",
              "      fill: #FFFFFF;\n",
              "    }\n",
              "  </style>\n",
              "\n",
              "      <script>\n",
              "        const buttonEl =\n",
              "          document.querySelector('#df-2cdf3af5-a189-48d9-9119-c25b3c94bb49 button.colab-df-convert');\n",
              "        buttonEl.style.display =\n",
              "          google.colab.kernel.accessAllowed ? 'block' : 'none';\n",
              "\n",
              "        async function convertToInteractive(key) {\n",
              "          const element = document.querySelector('#df-2cdf3af5-a189-48d9-9119-c25b3c94bb49');\n",
              "          const dataTable =\n",
              "            await google.colab.kernel.invokeFunction('convertToInteractive',\n",
              "                                                     [key], {});\n",
              "          if (!dataTable) return;\n",
              "\n",
              "          const docLinkHtml = 'Like what you see? Visit the ' +\n",
              "            '<a target=\"_blank\" href=https://colab.research.google.com/notebooks/data_table.ipynb>data table notebook</a>'\n",
              "            + ' to learn more about interactive tables.';\n",
              "          element.innerHTML = '';\n",
              "          dataTable['output_type'] = 'display_data';\n",
              "          await google.colab.output.renderOutput(dataTable, element);\n",
              "          const docLink = document.createElement('div');\n",
              "          docLink.innerHTML = docLinkHtml;\n",
              "          element.appendChild(docLink);\n",
              "        }\n",
              "      </script>\n",
              "    </div>\n",
              "  </div>\n",
              "  "
            ]
          },
          "metadata": {},
          "execution_count": 14
        }
      ],
      "source": [
        "df.head()"
      ]
    },
    {
      "cell_type": "code",
      "execution_count": 15,
      "metadata": {
        "id": "a5Q99BLvmn1c"
      },
      "outputs": [],
      "source": [
        "tfidf = TfidfVectorizer(max_features=5000)\n",
        "X = df['Reviews']\n",
        "y = df['Sentiment']\n",
        "\n",
        "X = tfidf.fit_transform(X)"
      ]
    },
    {
      "cell_type": "code",
      "execution_count": 16,
      "metadata": {
        "colab": {
          "base_uri": "https://localhost:8080/"
        },
        "id": "4N5UJBP5LoNL",
        "outputId": "8c3424ea-4e84-44fc-ac00-cdfdfa3f11dd"
      },
      "outputs": [
        {
          "output_type": "stream",
          "name": "stdout",
          "text": [
            "5000\n"
          ]
        }
      ],
      "source": [
        "print(len(tfidf.vocabulary_))"
      ]
    },
    {
      "cell_type": "code",
      "execution_count": 17,
      "metadata": {
        "id": "EQtYrXbHLzyQ",
        "colab": {
          "base_uri": "https://localhost:8080/"
        },
        "outputId": "dee2e6d2-d942-417d-905d-3bce9cd6c7b1"
      },
      "outputs": [
        {
          "output_type": "execute_result",
          "data": {
            "text/plain": [
              "{'when': 4857,\n",
              " 'first': 1736,\n",
              " 'in': 2246,\n",
              " 'on': 3099,\n",
              " 'this': 4451,\n",
              " 'morning': 2902,\n",
              " 'news': 2997,\n",
              " 'thought': 4456,\n",
              " 'wow': 4960,\n",
              " 'finally': 1723,\n",
              " 'some': 4054,\n",
              " 'entertainment': 1499,\n",
              " 'it': 2357,\n",
              " 'was': 4799,\n",
              " 'slightly': 4021,\n",
              " 'amusing': 228,\n",
              " 'for': 1783,\n",
              " 'week': 4831,\n",
              " 'or': 3121,\n",
              " 'so': 4038,\n",
              " 'but': 644,\n",
              " 'we': 4817,\n",
              " 'have': 2049,\n",
              " 'to': 4502,\n",
              " 'face': 1615,\n",
              " 'these': 4439,\n",
              " 'if': 2211,\n",
              " 'one': 3101,\n",
              " 'can': 673,\n",
              " 'even': 1532,\n",
              " 'call': 658,\n",
              " 'them': 4431,\n",
              " 'that': 4423,\n",
              " 'way': 4814,\n",
              " 'too': 4517,\n",
              " 'much': 2929,\n",
              " 'playing': 3297,\n",
              " 'around': 303,\n",
              " 'of': 3076,\n",
              " 'fresh': 1831,\n",
              " 'air': 171,\n",
              " 'seriously': 3885,\n",
              " 'woman': 4919,\n",
              " 'has': 2041,\n",
              " 'got': 1942,\n",
              " 'not': 3034,\n",
              " 'the': 4425,\n",
              " 'least': 2546,\n",
              " 'bit': 495,\n",
              " 'journalist': 2411,\n",
              " 'her': 2082,\n",
              " 'she': 3918,\n",
              " 'is': 2351,\n",
              " 'very': 4718,\n",
              " 'keeps': 2442,\n",
              " 'steve': 4175,\n",
              " 'he': 2052,\n",
              " 'starts': 4153,\n",
              " 'viewers': 4733,\n",
              " 'about': 72,\n",
              " 'certain': 744,\n",
              " 'report': 3629,\n",
              " 'just': 2428,\n",
              " 'really': 3549,\n",
              " 'become': 439,\n",
              " 'annoying': 258,\n",
              " 'point': 3313,\n",
              " 'cannot': 678,\n",
              " 'watch': 4804,\n",
              " 'good': 1935,\n",
              " 'hell': 2074,\n",
              " 'more': 2900,\n",
              " 'celebrity': 737,\n",
              " 'who': 4866,\n",
              " 'loves': 2665,\n",
              " 'being': 454,\n",
              " 'hence': 2080,\n",
              " 'instantly': 2295,\n",
              " 'into': 2322,\n",
              " 'whom': 4870,\n",
              " 'supposed': 4305,\n",
              " 'be': 424,\n",
              " 'professional': 3416,\n",
              " 'and': 233,\n",
              " 'quite': 3487,\n",
              " 'possibly': 3347,\n",
              " 'relationship': 3589,\n",
              " 'with': 4909,\n",
              " 'important': 2236,\n",
              " 'than': 4419,\n",
              " 'all': 193,\n",
              " 'say': 3795,\n",
              " 'show': 3945,\n",
              " 'necessary': 2978,\n",
              " 'world': 4944,\n",
              " 'government': 1946,\n",
              " 'us': 4684,\n",
              " 'something': 4059,\n",
              " 'will': 4883,\n",
              " 'benefit': 471,\n",
              " 'andor': 235,\n",
              " 'serve': 3886,\n",
              " 'best': 475,\n",
              " 'interest': 2312,\n",
              " 'they': 4440,\n",
              " 'are': 293,\n",
              " 'focus': 1765,\n",
              " 'everything': 1543,\n",
              " 'talk': 4357,\n",
              " 'comes': 898,\n",
              " 'off': 3077,\n",
              " 'as': 317,\n",
              " 'commercial': 910,\n",
              " 'product': 3413,\n",
              " 'other': 3132,\n",
              " 'hand': 2013,\n",
              " 'their': 4430,\n",
              " 'field': 1700,\n",
              " 'believe': 460,\n",
              " 'day': 1136,\n",
              " 'la': 2491,\n",
              " 'young': 4988,\n",
              " 'teenagers': 4390,\n",
              " 'definitely': 1166,\n",
              " 'people': 3219,\n",
              " 'actually': 115,\n",
              " 'care': 692,\n",
              " 'note': 3038,\n",
              " 'would': 4954,\n",
              " 'rather': 3521,\n",
              " 'however': 2176,\n",
              " 'try': 4595,\n",
              " 'hard': 2031,\n",
              " 'entertaining': 1498,\n",
              " 'sometimes': 4060,\n",
              " 'still': 4182,\n",
              " 'dull': 1384,\n",
              " 'though': 4455,\n",
              " 'oh': 3089,\n",
              " 'well': 4837,\n",
              " 'stick': 4179,\n",
              " 'national': 2964,\n",
              " 'broadcasting': 600,\n",
              " 'today': 4503,\n",
              " 'america': 220,\n",
              " 'also': 206,\n",
              " 'okay': 3092,\n",
              " 'long': 2635,\n",
              " 'diane': 1242,\n",
              " 'does': 1311,\n",
              " 'serious': 3884,\n",
              " 'mere': 2806,\n",
              " 'thoughts': 4458,\n",
              " 'going': 1929,\n",
              " 'aka': 175,\n",
              " 'make': 2706,\n",
              " 'me': 2770,\n",
              " 'want': 4783,\n",
              " 'throwing': 4474,\n",
              " 'yourself': 4992,\n",
              " 'out': 3138,\n",
              " 'window': 4892,\n",
              " 'better': 478,\n",
              " 'watching': 4808,\n",
              " 'movie': 2922,\n",
              " 'bad': 390,\n",
              " 'spend': 4099,\n",
              " 'money': 2884,\n",
              " 'buy': 648,\n",
              " 'copies': 1003,\n",
              " 'burn': 633,\n",
              " 'see': 3849,\n",
              " 'pain': 3169,\n",
              " 'why': 4874,\n",
              " 'fall': 1636,\n",
              " 'below': 468,\n",
              " 'standards': 4139,\n",
              " 'ultimately': 4623,\n",
              " 'answer': 260,\n",
              " 'lies': 2583,\n",
              " 'poor': 3324,\n",
              " 'script': 3829,\n",
              " 'looking': 2639,\n",
              " 'black': 500,\n",
              " 'must': 2944,\n",
              " 'huge': 2178,\n",
              " 'gross': 1978,\n",
              " 'both': 555,\n",
              " 'act': 103,\n",
              " 'two': 4615,\n",
              " 'nevertheless': 2995,\n",
              " 'new': 2996,\n",
              " 'eager': 1396,\n",
              " 'open': 3109,\n",
              " 'own': 3157,\n",
              " 'rest': 3651,\n",
              " 'film': 1712,\n",
              " 'boring': 551,\n",
              " 'worth': 4950,\n",
              " 'knowing': 2481,\n",
              " 'what': 4853,\n",
              " 'happens': 2027,\n",
              " 'films': 1719,\n",
              " 'climax': 856,\n",
              " 'any': 264,\n",
              " 'level': 2576,\n",
              " 'kelly': 2444,\n",
              " 'obviously': 3065,\n",
              " 'sex': 3900,\n",
              " 'appeal': 279,\n",
              " 'sexually': 3903,\n",
              " 'dance': 1110,\n",
              " 'few': 1696,\n",
              " 'charles': 771,\n",
              " 'martin': 2741,\n",
              " 'smith': 4030,\n",
              " 'fun': 1846,\n",
              " 'struggling': 4231,\n",
              " 'bob': 532,\n",
              " 'personally': 3241,\n",
              " 'think': 4446,\n",
              " 'been': 444,\n",
              " 'plot': 3306,\n",
              " 'little': 2616,\n",
              " 'settings': 3893,\n",
              " 'did': 1245,\n",
              " 'change': 756,\n",
              " 'from': 1838,\n",
              " 'indian': 2264,\n",
              " 'which': 4862,\n",
              " 'former': 1799,\n",
              " 'soviet': 4083,\n",
              " 'understand': 4636,\n",
              " 'you': 4985,\n",
              " 'apparently': 278,\n",
              " 'filmed': 1713,\n",
              " 'ready': 3538,\n",
              " 'release': 3594,\n",
              " 'guess': 1989,\n",
              " 'until': 4673,\n",
              " 'because': 438,\n",
              " 'unbelievable': 4627,\n",
              " '60': 55,\n",
              " 'over': 3145,\n",
              " 'an': 230,\n",
              " 'embarrassing': 1454,\n",
              " 'released': 3595,\n",
              " 'only': 3106,\n",
              " 'briefly': 588,\n",
              " 'places': 3281,\n",
              " 'like': 2592,\n",
              " 'texas': 4417,\n",
              " 'before': 446,\n",
              " 'testament': 4416,\n",
              " 'overall': 3147,\n",
              " 'quality': 3476,\n",
              " 'steven': 4176,\n",
              " 'every': 1538,\n",
              " 'time': 4489,\n",
              " 'could': 1018,\n",
              " 'get': 1897,\n",
              " 'worse': 4948,\n",
              " 'proved': 3441,\n",
              " 'wrong': 4972,\n",
              " 'story': 4201,\n",
              " 'actors': 110,\n",
              " 'carry': 708,\n",
              " 'made': 2690,\n",
              " 'lot': 2652,\n",
              " 'mistakes': 2868,\n",
              " 'how': 2174,\n",
              " 'proper': 3431,\n",
              " 'done': 1324,\n",
              " 'instance': 2293,\n",
              " 'do': 1305,\n",
              " 'handle': 2016,\n",
              " 'biggest': 486,\n",
              " 'crime': 1062,\n",
              " 'casting': 719,\n",
              " 'girl': 1907,\n",
              " 'weak': 4818,\n",
              " 'actress': 111,\n",
              " 'felt': 1691,\n",
              " 'acting': 105,\n",
              " 'less': 2567,\n",
              " 'realistic': 3542,\n",
              " 'then': 4435,\n",
              " 'already': 204,\n",
              " 'whole': 4868,\n",
              " 'concept': 939,\n",
              " 'underground': 4633,\n",
              " 'years': 4978,\n",
              " 'seemed': 3856,\n",
              " 'pretty': 3381,\n",
              " 'stupid': 4244,\n",
              " 'idea': 2203,\n",
              " 'disappeared': 1274,\n",
              " 'stuff': 4238,\n",
              " 'almost': 200,\n",
              " 'depressing': 1192,\n",
              " 'characters': 767,\n",
              " 'explained': 1587,\n",
              " 'enough': 1491,\n",
              " 'find': 1725,\n",
              " 'background': 388,\n",
              " 'harder': 2033,\n",
              " 'relate': 3585,\n",
              " 'seen': 3859,\n",
              " 'matter': 2761,\n",
              " 'figure': 1707,\n",
              " 'clear': 847,\n",
              " 'director': 1267,\n",
              " 'spent': 4102,\n",
              " 'his': 2113,\n",
              " 'work': 4938,\n",
              " 'alongside': 203,\n",
              " 'far': 1652,\n",
              " 'angles': 246,\n",
              " 'match': 2755,\n",
              " 'message': 2811,\n",
              " 'funniest': 1849,\n",
              " 'take': 4348,\n",
              " 'look': 2637,\n",
              " 'at': 338,\n",
              " 'movies': 2924,\n",
              " 'website': 4828,\n",
              " 'read': 3535,\n",
              " 'purpose': 3467,\n",
              " 'chosen': 813,\n",
              " 'camera': 666,\n",
              " 'remind': 3612,\n",
              " 'hunting': 2194,\n",
              " 'never': 2994,\n",
              " 'heard': 2058,\n",
              " 'stars': 4149,\n",
              " 'ok': 3091,\n",
              " 'pity': 3278,\n",
              " 'west': 4847,\n",
              " 'review': 3670,\n",
              " 'planning': 3288,\n",
              " 'mean': 2771,\n",
              " 'should': 3944,\n",
              " 'right': 3689,\n",
              " 'away': 377,\n",
              " 'come': 893,\n",
              " 'everyone': 1541,\n",
              " 'word': 4935,\n",
              " 'advice': 140,\n",
              " 'stop': 4195,\n",
              " 'use': 4686,\n",
              " 'your': 4990,\n",
              " 'start': 4150,\n",
              " 'filming': 1715,\n",
              " 'down': 1336,\n",
              " 'certainly': 745,\n",
              " 'ability': 70,\n",
              " 'desire': 1209,\n",
              " 'abuse': 79,\n",
              " 'talent': 4353,\n",
              " 'many': 2725,\n",
              " 'media': 2781,\n",
              " 'experiments': 1584,\n",
              " 'amateurish': 214,\n",
              " 'effort': 1432,\n",
              " 'contains': 975,\n",
              " 'interesting': 2314,\n",
              " 'social': 4042,\n",
              " 'commentary': 907,\n",
              " 'since': 3984,\n",
              " 'premise': 3366,\n",
              " 'outrageous': 3142,\n",
              " 'by': 650,\n",
              " 'real': 3539,\n",
              " 'events': 1535,\n",
              " 'development': 1229,\n",
              " 'found': 1810,\n",
              " 'previous': 3384,\n",
              " 'reason': 3550,\n",
              " 'imagine': 2226,\n",
              " 'clearly': 848,\n",
              " 'fan': 1647,\n",
              " 'hitchcock': 2118,\n",
              " 'executed': 1565,\n",
              " 'fact': 1620,\n",
              " 'nearly': 2975,\n",
              " 'parody': 3189,\n",
              " 'pulp': 3458,\n",
              " 'fiction': 1698,\n",
              " 'including': 2254,\n",
              " 'soundtrack': 4079,\n",
              " 'pay': 3213,\n",
              " 'attention': 352,\n",
              " 'points': 3316,\n",
              " 'capital': 681,\n",
              " 'letters': 2574,\n",
              " 'admit': 129,\n",
              " 'reasons': 3553,\n",
              " 'slick': 4018,\n",
              " 'offer': 3080,\n",
              " 'recommend': 3564,\n",
              " 'anyone': 267,\n",
              " 'interested': 2313,\n",
              " 'education': 1424,\n",
              " 'showed': 3948,\n",
              " 'my': 2946,\n",
              " 'heart': 2060,\n",
              " 'rate': 3519,\n",
              " 'went': 4842,\n",
              " 'up': 4676,\n",
              " 'break': 577,\n",
              " 'game': 1863,\n",
              " 'stopped': 4196,\n",
              " 'middle': 2827,\n",
              " 'bits': 497,\n",
              " 'burning': 635,\n",
              " 'last': 2513,\n",
              " 'ever': 1537,\n",
              " 'play': 3293,\n",
              " 'laugh': 2521,\n",
              " 'there': 4437,\n",
              " 'neither': 2990,\n",
              " 'character': 765,\n",
              " 'heroine': 2088,\n",
              " 'unfortunately': 4648,\n",
              " 'had': 2003,\n",
              " 'boy': 565,\n",
              " 'anyway': 269,\n",
              " 'go': 1922,\n",
              " 'after': 150,\n",
              " 'shooting': 3936,\n",
              " 'things': 4445,\n",
              " 'goes': 1928,\n",
              " 'along': 202,\n",
              " 'no': 3011,\n",
              " 'subtitles': 4257,\n",
              " 'tv': 4605,\n",
              " 'loud': 2655,\n",
              " 'damn': 1107,\n",
              " 'thing': 4444,\n",
              " 'lack': 2493,\n",
              " 'friends': 1835,\n",
              " 'laughable': 2522,\n",
              " 'levels': 2577,\n",
              " 'through': 4471,\n",
              " 'give': 1910,\n",
              " 'hint': 2108,\n",
              " 'next': 2999,\n",
              " 'literally': 2614,\n",
              " 'most': 2905,\n",
              " 'hours': 2170,\n",
              " 'trying': 4596,\n",
              " 'doing': 1314,\n",
              " 'particular': 3191,\n",
              " 'hour': 2169,\n",
              " 'save': 3790,\n",
              " 'sight': 3961,\n",
              " 'means': 2775,\n",
              " 'hit': 2117,\n",
              " 'guys': 2001,\n",
              " 'tree': 4570,\n",
              " 'trek': 4572,\n",
              " 'know': 2480,\n",
              " 'lets': 2572,\n",
              " 'makes': 2709,\n",
              " 'basically': 414,\n",
              " 'variety': 4708,\n",
              " 'music': 2940,\n",
              " 'hints': 2109,\n",
              " 'whatsoever': 4856,\n",
              " 'player': 3295,\n",
              " 'stay': 4160,\n",
              " 'longer': 2636,\n",
              " 'place': 3279,\n",
              " 'instead': 2296,\n",
              " 'getting': 1899,\n",
              " 'nonexistent': 3021,\n",
              " 'those': 4454,\n",
              " 'sound': 4075,\n",
              " 'bang': 401,\n",
              " 'needs': 2984,\n",
              " 'am': 211,\n",
              " 'sorry': 4070,\n",
              " 'ideas': 2205,\n",
              " 'seem': 3855,\n",
              " 'extremely': 1610,\n",
              " 'shut': 3953,\n",
              " 'todd': 4505,\n",
              " 'youre': 4991,\n",
              " 'shoot': 3935,\n",
              " 'course': 1027,\n",
              " 'while': 4863,\n",
              " 'jump': 2420,\n",
              " 'kick': 2452,\n",
              " 'again': 153,\n",
              " 'jumping': 2422,\n",
              " 'kicking': 2454,\n",
              " 'beautiful': 434,\n",
              " 'love': 2660,\n",
              " 'listening': 2612,\n",
              " 'wanting': 4785,\n",
              " 'cut': 1096,\n",
              " 'ears': 1401,\n",
              " '2006': 36,\n",
              " 'expecting': 1577,\n",
              " 'visuals': 4753,\n",
              " 'blow': 521,\n",
              " 'mess': 2810,\n",
              " 'barely': 407,\n",
              " 'dressed': 1360,\n",
              " 'women': 4921,\n",
              " 'lead': 2537,\n",
              " 'might': 2830,\n",
              " 'tell': 4394,\n",
              " 'gets': 1898,\n",
              " 'having': 2050,\n",
              " 'routine': 3738,\n",
              " 'others': 3133,\n",
              " 'rocks': 3716,\n",
              " 'bring': 593,\n",
              " 'men': 2797,\n",
              " 'hilarious': 2102,\n",
              " 'damon': 1108,\n",
              " 'stand': 4137,\n",
              " 'funny': 1850,\n",
              " 'errors': 1515,\n",
              " 'jokes': 2405,\n",
              " '70': 57,\n",
              " 'minutes': 2854,\n",
              " 'perfect': 3222,\n",
              " '20': 30,\n",
              " 'allows': 198,\n",
              " 'audience': 359,\n",
              " 'totally': 4527,\n",
              " 'themselves': 4434,\n",
              " 'classics': 845,\n",
              " 'guy': 2000,\n",
              " 'watched': 4806,\n",
              " 'jim': 2392,\n",
              " 'carrey': 704,\n",
              " 'growing': 1983,\n",
              " 'laid': 2500,\n",
              " 'back': 386,\n",
              " 'comic': 901,\n",
              " 'cool': 1000,\n",
              " 'putting': 3474,\n",
              " 'category': 726,\n",
              " 'ellen': 1446,\n",
              " 'thanks': 4422,\n",
              " 'eddie': 1415,\n",
              " 'god': 1924,\n",
              " 'energy': 1478,\n",
              " 'recent': 3559,\n",
              " 'horrid': 2158,\n",
              " 'such': 4266,\n",
              " 'date': 1125,\n",
              " 'breath': 581,\n",
              " 'truly': 4592,\n",
              " 'farce': 1653,\n",
              " 'johnny': 2400,\n",
              " 'mother': 2907,\n",
              " 'end': 1468,\n",
              " 'medical': 2782,\n",
              " 'problems': 3404,\n",
              " 'mob': 2875,\n",
              " 'series': 3883,\n",
              " 'gags': 1861,\n",
              " 'occasional': 3067,\n",
              " 'foreign': 1789,\n",
              " 'gangster': 1867,\n",
              " 'master': 2750,\n",
              " 'american': 221,\n",
              " 'language': 2508,\n",
              " 'wise': 4901,\n",
              " 'rival': 3700,\n",
              " 'mouth': 2916,\n",
              " 'once': 3100,\n",
              " 'younger': 4989,\n",
              " 'brother': 607,\n",
              " 'da': 1101,\n",
              " 'hot': 2167,\n",
              " 'viewer': 4732,\n",
              " 'busy': 643,\n",
              " 'laughing': 2525,\n",
              " 'part': 3190,\n",
              " 'cliche': 851,\n",
              " 'talented': 4354,\n",
              " 'cast': 718,\n",
              " 'decent': 1152,\n",
              " 'shot': 3942,\n",
              " 'smile': 4028,\n",
              " 'big': 484,\n",
              " 'ralph': 3502,\n",
              " 'truck': 4590,\n",
              " 'commercials': 911,\n",
              " 'numerous': 3056,\n",
              " 'given': 1911,\n",
              " 'shocking': 3933,\n",
              " 'main': 2700,\n",
              " 'charge': 768,\n",
              " 'metal': 2815,\n",
              " 'section': 3847,\n",
              " 'gay': 1876,\n",
              " 'night': 3005,\n",
              " 'club': 871,\n",
              " 'where': 4859,\n",
              " 'probably': 3402,\n",
              " 'its': 2361,\n",
              " 'fast': 1660,\n",
              " 'forward': 1806,\n",
              " 'famous': 1646,\n",
              " 'wish': 4902,\n",
              " 'ill': 2216,\n",
              " 'cant': 679,\n",
              " 'panic': 3179,\n",
              " 'streets': 4212,\n",
              " 'fairly': 1630,\n",
              " 'unknown': 4662,\n",
              " 'classic': 843,\n",
              " 'masterpieces': 2753,\n",
              " 'named': 2955,\n",
              " 'east': 1406,\n",
              " 'won': 4923,\n",
              " 'oscar': 3130,\n",
              " 'completely': 931,\n",
              " 'mostly': 2906,\n",
              " 'passed': 3199,\n",
              " 'under': 4632,\n",
              " 'great': 1963,\n",
              " 'winning': 4896,\n",
              " 'excellent': 1554,\n",
              " 'tense': 4402,\n",
              " 'thriller': 4466,\n",
              " 'material': 2758,\n",
              " 'elements': 1443,\n",
              " 'dialog': 1236,\n",
              " 'absolutely': 77,\n",
              " 'magnificent': 2699,\n",
              " 'gives': 1912,\n",
              " 'feel': 1682,\n",
              " 'reality': 3543,\n",
              " 'especially': 1519,\n",
              " 'features': 1679,\n",
              " 'zero': 4996,\n",
              " 'jack': 2364,\n",
              " 'roles': 3721,\n",
              " 'tough': 4532,\n",
              " 'boss': 554,\n",
              " 'powerful': 3357,\n",
              " 'drags': 1346,\n",
              " 'always': 210,\n",
              " 'decisions': 1157,\n",
              " 'terms': 4405,\n",
              " 'pace': 3160,\n",
              " 'view': 4730,\n",
              " 'told': 4508,\n",
              " 'remains': 3604,\n",
              " 'perfectly': 3224,\n",
              " 'watchable': 4805,\n",
              " 'mainly': 2701,\n",
              " 'due': 1382,\n",
              " 'solid': 4050,\n",
              " 'believable': 459,\n",
              " 'fans': 1649,\n",
              " 'genre': 1886,\n",
              " 'lose': 2645,\n",
              " 'based': 411,\n",
              " 'tiger': 4485,\n",
              " 'woods': 4933,\n",
              " 'mediocre': 2783,\n",
              " 'romantic': 3727,\n",
              " 'comedy': 897,\n",
              " 'book': 543,\n",
              " 'experiences': 1582,\n",
              " 'working': 4942,\n",
              " 'simon': 3975,\n",
              " 'sidney': 3960,\n",
              " 'british': 597,\n",
              " 'takes': 4350,\n",
              " 'job': 2395,\n",
              " 'magazine': 2695,\n",
              " 'york': 4984,\n",
              " 'caught': 730,\n",
              " 'type': 4616,\n",
              " 'him': 2106,\n",
              " 'title': 4499,\n",
              " 'daring': 1121,\n",
              " 'moronic': 2903,\n",
              " 'bizarre': 499,\n",
              " 'somewhat': 4061,\n",
              " 'likable': 2591,\n",
              " 'fellow': 1690,\n",
              " 'composed': 935,\n",
              " 'played': 3294,\n",
              " 'primarily': 3389,\n",
              " 'fantastic': 1650,\n",
              " 'miss': 2861,\n",
              " 'fox': 1813,\n",
              " 'short': 3939,\n",
              " 'high': 2096,\n",
              " 'eye': 1611,\n",
              " 'candy': 676,\n",
              " 'kinds': 2470,\n",
              " 'order': 3122,\n",
              " 'move': 2917,\n",
              " 'peak': 3217,\n",
              " 'comedic': 895,\n",
              " 'moments': 2883,\n",
              " 'robert': 3707,\n",
              " 'screenwriter': 3828,\n",
              " 'peter': 3245,\n",
              " 'authentic': 366,\n",
              " 'developing': 1228,\n",
              " 'implausible': 2234,\n",
              " 'line': 2603,\n",
              " 'between': 481,\n",
              " 'team': 4377,\n",
              " 'narrative': 2960,\n",
              " 'otherwise': 3134,\n",
              " 'performance': 3226,\n",
              " 'jeff': 2380,\n",
              " 'building': 623,\n",
              " 'dude': 1381,\n",
              " 'supporting': 4303,\n",
              " 'worthy': 4953,\n",
              " 'feature': 1677,\n",
              " 'here': 2083,\n",
              " 'entirely': 1502,\n",
              " 'average': 370,\n",
              " 'saw': 3794,\n",
              " 'cable': 652,\n",
              " 'extraordinary': 1607,\n",
              " 'understated': 4639,\n",
              " 'deeply': 1161,\n",
              " 'heartfelt': 2062,\n",
              " 'henry': 2081,\n",
              " 'thomas': 4452,\n",
              " 'child': 797,\n",
              " 'et': 1525,\n",
              " 'man': 2714,\n",
              " 'words': 4936,\n",
              " 'david': 1131,\n",
              " 'wonderful': 4926,\n",
              " 'crazy': 1043,\n",
              " 'villain': 4738,\n",
              " 'were': 4843,\n",
              " 'talking': 4359,\n",
              " 'hollywood': 2132,\n",
              " 'baby': 384,\n",
              " 'serves': 3888,\n",
              " 'lines': 2604,\n",
              " 'mysterious': 2950,\n",
              " 'core': 1006,\n",
              " 'bond': 540,\n",
              " 'tunes': 4598,\n",
              " 'entire': 1501,\n",
              " 'score': 3818,\n",
              " 'gorgeous': 1940,\n",
              " 'hill': 2104,\n",
              " 'country': 1022,\n",
              " 'wonderfully': 4927,\n",
              " 'atmospheric': 341,\n",
              " 'highly': 2101,\n",
              " 'follows': 1774,\n",
              " 'typical': 4618,\n",
              " 'early': 1399,\n",
              " '80s': 61,\n",
              " 'slasher': 4012,\n",
              " 'girls': 1909,\n",
              " 'filmmaker': 1716,\n",
              " 'used': 4687,\n",
              " 'helicopter': 2073,\n",
              " 'shots': 3943,\n",
              " 'second': 3841,\n",
              " 'production': 3414,\n",
              " 'seeing': 3851,\n",
              " 'amateur': 213,\n",
              " 'class': 841,\n",
              " 'awkward': 382,\n",
              " 'badly': 391,\n",
              " 'lit': 2613,\n",
              " 'overlong': 3150,\n",
              " 'scenes': 3807,\n",
              " 'wondered': 4925,\n",
              " 'put': 3472,\n",
              " 'actresses': 112,\n",
              " 'wouldnt': 4956,\n",
              " 'constantly': 969,\n",
              " 'factor': 1621,\n",
              " 'laurel': 2529,\n",
              " 'chick': 794,\n",
              " 'terry': 4414,\n",
              " 'exciting': 1563,\n",
              " 'paint': 3172,\n",
              " 'dry': 1377,\n",
              " 'nude': 3052,\n",
              " 'thrill': 4465,\n",
              " 'virginia': 4744,\n",
              " 'settle': 3894,\n",
              " 'daughter': 1128,\n",
              " 'chicks': 795,\n",
              " 'worst': 4949,\n",
              " 'weird': 4835,\n",
              " 'expressions': 1603,\n",
              " 'emphasis': 1463,\n",
              " 'delight': 1171,\n",
              " 'suddenly': 4271,\n",
              " 'drive': 1364,\n",
              " 'cartoon': 712,\n",
              " 'across': 102,\n",
              " 'without': 4911,\n",
              " 'sky': 4009,\n",
              " 'eighties': 1437,\n",
              " 'ya': 4975,\n",
              " 'grew': 1972,\n",
              " 'wanted': 4784,\n",
              " 'kiss': 2475,\n",
              " 'ending': 1471,\n",
              " 'damage': 1106,\n",
              " 'caused': 732,\n",
              " 'regarding': 3581,\n",
              " 'banned': 403,\n",
              " 'hype': 2199,\n",
              " 'hope': 2149,\n",
              " 'chooses': 808,\n",
              " 'substance': 4256,\n",
              " 'sense': 3870,\n",
              " 'humor': 2185,\n",
              " 'pass': 3198,\n",
              " 'trilogy': 4581,\n",
              " 'passion': 3202,\n",
              " 'magic': 2697,\n",
              " 'political': 3320,\n",
              " 'war': 4787,\n",
              " 'able': 71,\n",
              " 'control': 988,\n",
              " 'life': 2584,\n",
              " 'moment': 2882,\n",
              " 'tries': 4580,\n",
              " 'sell': 3865,\n",
              " 'complete': 930,\n",
              " 'set': 3890,\n",
              " 'remarks': 3609,\n",
              " 'books': 544,\n",
              " 'provide': 3443,\n",
              " 'warmth': 4790,\n",
              " 'wants': 4786,\n",
              " 'scene': 3805,\n",
              " 'room': 3730,\n",
              " 'soldier': 4046,\n",
              " 'appearance': 282,\n",
              " 'train': 4551,\n",
              " 'maria': 2729,\n",
              " 'meets': 2787,\n",
              " 'falls': 1639,\n",
              " 'flat': 1747,\n",
              " 'develops': 1230,\n",
              " 'drawn': 1353,\n",
              " 'cold': 879,\n",
              " 'cure': 1088,\n",
              " 'uses': 4691,\n",
              " 'voice': 4755,\n",
              " 'create': 1044,\n",
              " 'intense': 2305,\n",
              " 'mood': 2894,\n",
              " 'although': 208,\n",
              " 'amazingly': 217,\n",
              " 'visual': 4751,\n",
              " 'multiple': 2930,\n",
              " 'add': 122,\n",
              " 'choice': 805,\n",
              " 'color': 884,\n",
              " 'worked': 4939,\n",
              " 'nicely': 3001,\n",
              " 'despite': 1215,\n",
              " 'result': 3654,\n",
              " 'enjoyed': 1486,\n",
              " 'suspense': 4329,\n",
              " 'closeups': 866,\n",
              " 'lovely': 2662,\n",
              " 'reflect': 3576,\n",
              " 'piece': 3268,\n",
              " 'tight': 4486,\n",
              " 'editing': 1421,\n",
              " 'helps': 2079,\n",
              " 'nice': 3000,\n",
              " 'sisters': 3995,\n",
              " 'each': 1395,\n",
              " 'liking': 2597,\n",
              " 'same': 3774,\n",
              " 'killed': 2461,\n",
              " 'sure': 4307,\n",
              " 'different': 1251,\n",
              " 'shows': 3952,\n",
              " 'thru': 4477,\n",
              " 'dealing': 1142,\n",
              " 'hurt': 2195,\n",
              " 'easier': 1404,\n",
              " 'stories': 4199,\n",
              " 'terrible': 4406,\n",
              " 'happen': 2024,\n",
              " 'someones': 4058,\n",
              " 'closer': 863,\n",
              " 'now': 3048,\n",
              " 'myself': 2948,\n",
              " 'maybe': 2768,\n",
              " 'older': 3094,\n",
              " 'sister': 3994,\n",
              " 'finish': 1732,\n",
              " 'died': 1247,\n",
              " 'keep': 2440,\n",
              " 'alive': 192,\n",
              " 'dead': 1139,\n",
              " 'screen': 3825,\n",
              " 'cover': 1030,\n",
              " 'majority': 2705,\n",
              " 'manages': 2718,\n",
              " 'focused': 1766,\n",
              " 'path': 3206,\n",
              " 'dialogue': 1238,\n",
              " 'psycho': 3450,\n",
              " 'cinematography': 828,\n",
              " 'buff': 619,\n",
              " '100': 1,\n",
              " 'amazing': 216,\n",
              " 'pulled': 3455,\n",
              " '50s': 54,\n",
              " 'modern': 2878,\n",
              " 'enjoyable': 1485,\n",
              " '810': 62,\n",
              " 'disappointment': 1278,\n",
              " 'brando': 574,\n",
              " 'plays': 3298,\n",
              " 'awful': 380,\n",
              " 'crap': 1039,\n",
              " 'throw': 4473,\n",
              " 'simply': 3979,\n",
              " 'disgusting': 1289,\n",
              " 'addition': 125,\n",
              " 'else': 1448,\n",
              " 'rooms': 3731,\n",
              " 'colors': 886,\n",
              " 'sick': 3955,\n",
              " 'cause': 731,\n",
              " 'usually': 4694,\n",
              " 'free': 1825,\n",
              " 'angry': 247,\n",
              " 'avoid': 371,\n",
              " 'costs': 1015,\n",
              " 'charlie': 772,\n",
              " 'sutherland': 4332,\n",
              " 'nothing': 3041,\n",
              " 'watches': 4807,\n",
              " 'cost': 1014,\n",
              " 'lucky': 2676,\n",
              " 'disturbing': 1303,\n",
              " 'blair': 504,\n",
              " 'witch': 4907,\n",
              " 'project': 3422,\n",
              " 'kids': 2459,\n",
              " 'andre': 236,\n",
              " 'against': 154,\n",
              " 'school': 3809,\n",
              " 'army': 301,\n",
              " 'video': 4727,\n",
              " 'form': 1797,\n",
              " 'relationships': 3590,\n",
              " 'parents': 3185,\n",
              " 'amongst': 225,\n",
              " 'showing': 3950,\n",
              " 'normal': 3027,\n",
              " 'mission': 2865,\n",
              " 'plan': 3284,\n",
              " 'access': 88,\n",
              " 'guns': 1998,\n",
              " 'stress': 4215,\n",
              " 'affected': 144,\n",
              " 'said': 3770,\n",
              " 'store': 4198,\n",
              " 'safety': 3768,\n",
              " 'box': 563,\n",
              " 'actual': 114,\n",
              " 'shown': 3951,\n",
              " 'cameras': 667,\n",
              " 'throughout': 4472,\n",
              " 'chilling': 802,\n",
              " 'indeed': 2261,\n",
              " 'youd': 4986,\n",
              " 'quote': 3488,\n",
              " 'remember': 3610,\n",
              " 'says': 3797,\n",
              " 'thinks': 4448,\n",
              " 'gonna': 1934,\n",
              " 'leave': 2547,\n",
              " 'car': 688,\n",
              " 'schools': 3810,\n",
              " 'thinking': 4447,\n",
              " 'coming': 904,\n",
              " 'plastic': 3291,\n",
              " 'giving': 1913,\n",
              " 'need': 2981,\n",
              " ...}"
            ]
          },
          "metadata": {},
          "execution_count": 17
        }
      ],
      "source": [
        "tfidf.vocabulary_"
      ]
    },
    {
      "cell_type": "code",
      "execution_count": 18,
      "metadata": {
        "colab": {
          "base_uri": "https://localhost:8080/"
        },
        "id": "YO5rJpwanI4-",
        "outputId": "ce539c30-24d7-40b9-e86f-829e4378a5b3"
      },
      "outputs": [
        {
          "output_type": "execute_result",
          "data": {
            "text/plain": [
              "<25000x5000 sparse matrix of type '<class 'numpy.float64'>'\n",
              "\twith 2845641 stored elements in Compressed Sparse Row format>"
            ]
          },
          "metadata": {},
          "execution_count": 18
        }
      ],
      "source": [
        "X"
      ]
    },
    {
      "cell_type": "code",
      "execution_count": 19,
      "metadata": {
        "id": "vKfYaPZOMtiC",
        "colab": {
          "base_uri": "https://localhost:8080/"
        },
        "outputId": "19edd2ba-d10b-41ee-a2d3-a54cfed5d6c0"
      },
      "outputs": [
        {
          "output_type": "stream",
          "name": "stdout",
          "text": [
            "  (0, 3884)\t0.06122492715124015\n",
            "  (0, 1311)\t0.03184254854488611\n",
            "  (0, 1242)\t0.094874389746662\n",
            "  (0, 2635)\t0.04528158101278558\n",
            "  (0, 3092)\t0.06770225573920378\n",
            "  (0, 206)\t0.0335106113756134\n",
            "  (0, 220)\t0.0683759265176592\n",
            "  (0, 4503)\t0.062030436784394606\n",
            "  (0, 600)\t0.09673135909474233\n",
            "  (0, 2964)\t0.07849346970210537\n",
            "  (0, 4179)\t0.07215850040574179\n",
            "  (0, 4837)\t0.03257220027250918\n",
            "  (0, 3089)\t0.0579974168074882\n",
            "  (0, 4455)\t0.04178063440281698\n",
            "  (0, 1384)\t0.06503621981498922\n",
            "  (0, 4182)\t0.038782272087212064\n",
            "  (0, 4060)\t0.059301245135300024\n",
            "  (0, 1498)\t0.055943530407233405\n",
            "  (0, 2031)\t0.048694241992215566\n",
            "  (0, 4595)\t0.05253552256287277\n",
            "  (0, 2176)\t0.045266125794291165\n",
            "  (0, 3521)\t0.04802105460298156\n",
            "  (0, 4954)\t0.02786754156681438\n",
            "  (0, 3038)\t0.06703517290156592\n",
            "  (0, 692)\t0.057087108212816734\n",
            "  :\t:\n",
            "  (24999, 4866)\t0.047525381804043455\n",
            "  (24999, 2900)\t0.05294191195528048\n",
            "  (24999, 3549)\t0.0573477782974248\n",
            "  (24999, 2428)\t0.024488140224721195\n",
            "  (24999, 72)\t0.04897377739623803\n",
            "  (24999, 2351)\t0.09782799034977811\n",
            "  (24999, 4425)\t0.22430057773197704\n",
            "  (24999, 3034)\t0.016095259042492784\n",
            "  (24999, 2041)\t0.04966102168244039\n",
            "  (24999, 3076)\t0.12392287275638851\n",
            "  (24999, 2929)\t0.059596271680504936\n",
            "  (24999, 4423)\t0.07897827725999362\n",
            "  (24999, 4431)\t0.0992239080820485\n",
            "  (24999, 1532)\t0.027556129116680865\n",
            "  (24999, 4502)\t0.19477960641546813\n",
            "  (24999, 2049)\t0.05792984718867513\n",
            "  (24999, 644)\t0.03531931406696492\n",
            "  (24999, 4038)\t0.11440117490177686\n",
            "  (24999, 1783)\t0.0701478911748418\n",
            "  (24999, 2357)\t0.1029077643743875\n",
            "  (24999, 4054)\t0.025681126422932535\n",
            "  (24999, 4451)\t0.11596833645453541\n",
            "  (24999, 3099)\t0.057238468396792835\n",
            "  (24999, 2246)\t0.029531641010557285\n",
            "  (24999, 4857)\t0.05317305203556033\n"
          ]
        }
      ],
      "source": [
        "print(X)"
      ]
    },
    {
      "cell_type": "code",
      "execution_count": 20,
      "metadata": {
        "id": "nSR-yInim4gl"
      },
      "outputs": [],
      "source": [
        "X_train, X_test, y_train, y_test = train_test_split(X, y, test_size = 0.2, random_state = 0)"
      ]
    },
    {
      "cell_type": "code",
      "execution_count": 21,
      "metadata": {
        "colab": {
          "base_uri": "https://localhost:8080/"
        },
        "id": "LcyYBx9jngxN",
        "outputId": "094679b5-b98f-49e7-f5f5-4b8aeb3e7531"
      },
      "outputs": [
        {
          "output_type": "execute_result",
          "data": {
            "text/plain": [
              "LinearSVC()"
            ]
          },
          "metadata": {},
          "execution_count": 21
        }
      ],
      "source": [
        "clf = LinearSVC()\n",
        "clf.fit(X_train, y_train)"
      ]
    },
    {
      "cell_type": "code",
      "execution_count": 22,
      "metadata": {
        "id": "6lATFCKOoD-V"
      },
      "outputs": [],
      "source": [
        "y_pred = clf.predict(X_test)"
      ]
    },
    {
      "cell_type": "code",
      "execution_count": 23,
      "metadata": {
        "colab": {
          "base_uri": "https://localhost:8080/"
        },
        "id": "wmd0UunpSIla",
        "outputId": "efc616ff-4ee6-4a00-9299-d7e50c4c4d75"
      },
      "outputs": [
        {
          "output_type": "stream",
          "name": "stdout",
          "text": [
            "Accuracy of the Algorithm is: 0.8746\n"
          ]
        }
      ],
      "source": [
        "print('Accuracy of the Algorithm is: {}'.format(accuracy_score(y_test, y_pred)))"
      ]
    },
    {
      "cell_type": "code",
      "execution_count": 24,
      "metadata": {
        "colab": {
          "base_uri": "https://localhost:8080/"
        },
        "id": "fHWuLM4VSg6d",
        "outputId": "e5c8969b-a2ac-4a59-8c9e-dc02054b2e09"
      },
      "outputs": [
        {
          "output_type": "execute_result",
          "data": {
            "text/plain": [
              "array([[2163,  317],\n",
              "       [ 310, 2210]])"
            ]
          },
          "metadata": {},
          "execution_count": 24
        }
      ],
      "source": [
        "confusion_matrix(y_test, y_pred)"
      ]
    },
    {
      "cell_type": "code",
      "execution_count": 25,
      "metadata": {
        "colab": {
          "base_uri": "https://localhost:8080/"
        },
        "id": "nu9XbE_MoPqL",
        "outputId": "254c4268-5543-4bd1-ac82-1e6fd9e9d057"
      },
      "outputs": [
        {
          "output_type": "stream",
          "name": "stdout",
          "text": [
            "              precision    recall  f1-score   support\n",
            "\n",
            "         neg       0.87      0.87      0.87      2480\n",
            "         pos       0.87      0.88      0.88      2520\n",
            "\n",
            "    accuracy                           0.87      5000\n",
            "   macro avg       0.87      0.87      0.87      5000\n",
            "weighted avg       0.87      0.87      0.87      5000\n",
            "\n"
          ]
        }
      ],
      "source": [
        "print(classification_report(y_test, y_pred))"
      ]
    },
    {
      "cell_type": "code",
      "execution_count": 26,
      "metadata": {
        "colab": {
          "base_uri": "https://localhost:8080/",
          "height": 459
        },
        "id": "vCsf56HJS4tU",
        "outputId": "52144c45-03cb-4c8d-fcab-079f3ad400b6"
      },
      "outputs": [
        {
          "output_type": "stream",
          "name": "stderr",
          "text": [
            "/usr/local/lib/python3.7/dist-packages/sklearn/utils/deprecation.py:87: FutureWarning: Function plot_confusion_matrix is deprecated; Function `plot_confusion_matrix` is deprecated in 1.0 and will be removed in 1.2. Use one of the class methods: ConfusionMatrixDisplay.from_predictions or ConfusionMatrixDisplay.from_estimator.\n",
            "  warnings.warn(msg, category=FutureWarning)\n"
          ]
        },
        {
          "output_type": "display_data",
          "data": {
            "text/plain": [
              "<Figure size 720x432 with 2 Axes>"
            ],
            "image/png": "[encoded data removed]"
          },
          "metadata": {
            "needs_background": "light"
          }
        }
      ],
      "source": [
        "matrix = plot_confusion_matrix(clf, X_test, y_test, cmap=plt.cm.Reds)\n",
        "matrix.ax_.set_title('Confusion matrix', color='white')\n",
        "plt.xlabel('Predicted Label', color='white')\n",
        "plt.ylabel('True Label', color='white')\n",
        "plt.gcf().axes[0].tick_params(color='white')\n",
        "plt.gcf().axes[1].tick_params(color='white')\n",
        "plt.gcf().set_size_inches(10,6)\n",
        "plt.show()"
      ]
    },
    {
      "cell_type": "markdown",
      "metadata": {
        "id": "rW1VuMQPDWwG"
      },
      "source": [
        "## Utilizando KNN\n"
      ]
    },
    {
      "cell_type": "code",
      "execution_count": 27,
      "metadata": {
        "id": "X06mS6SCDYoG"
      },
      "outputs": [],
      "source": [
        "from sklearn.neighbors import KNeighborsClassifier"
      ]
    },
    {
      "cell_type": "code",
      "execution_count": 28,
      "metadata": {
        "id": "90t-0UhLDYlw"
      },
      "outputs": [],
      "source": [
        "knn = KNeighborsClassifier(n_neighbors = 5 )\n",
        "knn.fit(X_train, y_train)\n",
        "y_predict = knn.predict(X_test)"
      ]
    },
    {
      "cell_type": "code",
      "execution_count": 29,
      "metadata": {
        "id": "eB7ND_EQDYjI"
      },
      "outputs": [],
      "source": [
        "from sklearn.metrics import accuracy_score\n",
        "from sklearn.metrics import f1_score"
      ]
    },
    {
      "cell_type": "code",
      "execution_count": 30,
      "metadata": {
        "colab": {
          "base_uri": "https://localhost:8080/"
        },
        "id": "GVUJz201DYgd",
        "outputId": "46f6d487-b12a-467d-a6b9-71d730e41901"
      },
      "outputs": [
        {
          "output_type": "stream",
          "name": "stdout",
          "text": [
            "Accuracy K-NN from sk-learn: 72.76%\n",
            "F1 Score K-NN from sk-learn: 72.75%\n"
          ]
        }
      ],
      "source": [
        "accuracy = accuracy_score(y_test, y_predict) * 100\n",
        "f1 = f1_score(y_test, y_predict, average = 'macro') * 100\n",
        "\n",
        "print('Accuracy K-NN from sk-learn: {:.2f}%'.format(accuracy))\n",
        "print('F1 Score K-NN from sk-learn: {:.2f}%'.format(f1))"
      ]
    },
    {
      "cell_type": "code",
      "execution_count": 31,
      "metadata": {
        "colab": {
          "base_uri": "https://localhost:8080/"
        },
        "id": "TOiykYiwDYWm",
        "outputId": "4be2c136-5e1c-4911-8a18-ac9e14fd1df6"
      },
      "outputs": [
        {
          "output_type": "execute_result",
          "data": {
            "text/plain": [
              "array([[1784,  696],\n",
              "       [ 666, 1854]])"
            ]
          },
          "metadata": {},
          "execution_count": 31
        }
      ],
      "source": [
        "cm = confusion_matrix(y_test, y_predict)\n",
        "cm"
      ]
    },
    {
      "cell_type": "code",
      "execution_count": 32,
      "metadata": {
        "colab": {
          "base_uri": "https://localhost:8080/"
        },
        "id": "CB1LXNHwD00C",
        "outputId": "bd181411-3f31-4d05-d951-f171db0c805a"
      },
      "outputs": [
        {
          "output_type": "stream",
          "name": "stdout",
          "text": [
            "              precision    recall  f1-score   support\n",
            "\n",
            "         neg       0.73      0.72      0.72      2480\n",
            "         pos       0.73      0.74      0.73      2520\n",
            "\n",
            "    accuracy                           0.73      5000\n",
            "   macro avg       0.73      0.73      0.73      5000\n",
            "weighted avg       0.73      0.73      0.73      5000\n",
            "\n"
          ]
        }
      ],
      "source": [
        "print(classification_report(y_test, y_predict))"
      ]
    },
    {
      "cell_type": "code",
      "execution_count": 33,
      "metadata": {
        "colab": {
          "base_uri": "https://localhost:8080/",
          "height": 459
        },
        "id": "N6ZqieyVD0yJ",
        "outputId": "d89477a6-5a15-4eb1-ee72-239109f1168b"
      },
      "outputs": [
        {
          "output_type": "stream",
          "name": "stderr",
          "text": [
            "/usr/local/lib/python3.7/dist-packages/sklearn/utils/deprecation.py:87: FutureWarning: Function plot_confusion_matrix is deprecated; Function `plot_confusion_matrix` is deprecated in 1.0 and will be removed in 1.2. Use one of the class methods: ConfusionMatrixDisplay.from_predictions or ConfusionMatrixDisplay.from_estimator.\n",
            "  warnings.warn(msg, category=FutureWarning)\n"
          ]
        },
        {
          "output_type": "display_data",
          "data": {
            "text/plain": [
              "<Figure size 720x432 with 2 Axes>"
            ],
            "image/png": "[encoded data removed]"
          },
          "metadata": {
            "needs_background": "light"
          }
        }
      ],
      "source": [
        "from sklearn.metrics import plot_confusion_matrix\n",
        "\n",
        "matrix = plot_confusion_matrix(knn, X_test, y_test, cmap=plt.cm.Blues)\n",
        "matrix.ax_.set_title('Confusion matrix', color='white')\n",
        "plt.xlabel('Predicted Label', color='white')\n",
        "plt.ylabel('True Label', color='white')\n",
        "plt.gcf().axes[0].tick_params(color='white')\n",
        "plt.gcf().axes[1].tick_params(color='white')\n",
        "plt.gcf().set_size_inches(10,6)\n",
        "plt.show()"
      ]
    },
    {
      "cell_type": "markdown",
      "metadata": {
        "id": "cnZBjbh2EA8T"
      },
      "source": [
        "## Classificador Decision Tree"
      ]
    },
    {
      "cell_type": "code",
      "execution_count": 34,
      "metadata": {
        "id": "hoDQhN51D0vw"
      },
      "outputs": [],
      "source": [
        "from sklearn.tree import DecisionTreeClassifier\n",
        "from sklearn import tree"
      ]
    },
    {
      "cell_type": "code",
      "execution_count": 35,
      "metadata": {
        "colab": {
          "base_uri": "https://localhost:8080/",
          "height": 248
        },
        "id": "x3jV7gNPD0tW",
        "outputId": "abe62830-294f-4ba4-86fa-cd8967ddaecf"
      },
      "outputs": [
        {
          "output_type": "display_data",
          "data": {
            "text/plain": [
              "<Figure size 432x288 with 1 Axes>"
            ],
            "image/png": "[encoded data removed]"
          },
          "metadata": {
            "needs_background": "light"
          }
        }
      ],
      "source": [
        "clf = DecisionTreeClassifier(max_leaf_nodes=3)\n",
        "clf.fit(X_train, y_train)\n",
        "\n",
        "tree.plot_tree(clf)\n",
        "plt.show()"
      ]
    },
    {
      "cell_type": "code",
      "execution_count": 36,
      "metadata": {
        "colab": {
          "base_uri": "https://localhost:8080/"
        },
        "id": "-tO8XY5PD0q4",
        "outputId": "a80745d9-d527-4d09-d982-0abf613b1c56"
      },
      "outputs": [
        {
          "output_type": "stream",
          "name": "stdout",
          "text": [
            "['pos' 'neg' 'neg' ... 'pos' 'pos' 'neg']\n"
          ]
        }
      ],
      "source": [
        "y_predicted = clf.predict(X_test)\n",
        "print(y_predicted)"
      ]
    },
    {
      "cell_type": "code",
      "execution_count": 37,
      "metadata": {
        "colab": {
          "base_uri": "https://localhost:8080/"
        },
        "id": "OKYKYGn2D0oe",
        "outputId": "7de24292-8aca-4ed0-e1b2-e2120f6db21b"
      },
      "outputs": [
        {
          "output_type": "stream",
          "name": "stdout",
          "text": [
            "Accuracy Decision Tree from Sk-learn: 65.46%\n",
            "F1 Score Decision Tree from Sk-learn: 63.30%\n"
          ]
        }
      ],
      "source": [
        "accuracy = accuracy_score(y_test, y_predicted) * 100\n",
        "f1 = f1_score(y_test, y_predicted, average = 'macro') * 100\n",
        "\n",
        "print('Accuracy Decision Tree from Sk-learn: {:.2f}%'.format(accuracy))\n",
        "print('F1 Score Decision Tree from Sk-learn: {:.2f}%'.format(f1))"
      ]
    },
    {
      "cell_type": "code",
      "execution_count": 38,
      "metadata": {
        "colab": {
          "base_uri": "https://localhost:8080/"
        },
        "id": "ZStuI0NKEM40",
        "outputId": "317f06cc-b5df-4233-8fa7-e5aec5f9eaac"
      },
      "outputs": [
        {
          "output_type": "stream",
          "name": "stdout",
          "text": [
            "              precision    recall  f1-score   support\n",
            "\n",
            "         neg       0.79      0.42      0.54      2480\n",
            "         pos       0.61      0.89      0.72      2520\n",
            "\n",
            "    accuracy                           0.65      5000\n",
            "   macro avg       0.70      0.65      0.63      5000\n",
            "weighted avg       0.70      0.65      0.63      5000\n",
            "\n"
          ]
        }
      ],
      "source": [
        "print(classification_report(y_test, y_predicted))"
      ]
    },
    {
      "cell_type": "code",
      "execution_count": 39,
      "metadata": {
        "colab": {
          "base_uri": "https://localhost:8080/"
        },
        "id": "mf8bZLnKEM2O",
        "outputId": "51bfa4b0-132b-4d35-be28-7fec7471554a"
      },
      "outputs": [
        {
          "output_type": "execute_result",
          "data": {
            "text/plain": [
              "array([[1030, 1450],\n",
              "       [ 277, 2243]])"
            ]
          },
          "metadata": {},
          "execution_count": 39
        }
      ],
      "source": [
        "cm = confusion_matrix(y_test, y_predicted)\n",
        "cm"
      ]
    },
    {
      "cell_type": "code",
      "execution_count": 40,
      "metadata": {
        "colab": {
          "base_uri": "https://localhost:8080/",
          "height": 459
        },
        "id": "GwoeOnd3EMzZ",
        "outputId": "1840c3b2-91d5-4afd-f613-21ecf9ebfcf4"
      },
      "outputs": [
        {
          "output_type": "stream",
          "name": "stderr",
          "text": [
            "/usr/local/lib/python3.7/dist-packages/sklearn/utils/deprecation.py:87: FutureWarning: Function plot_confusion_matrix is deprecated; Function `plot_confusion_matrix` is deprecated in 1.0 and will be removed in 1.2. Use one of the class methods: ConfusionMatrixDisplay.from_predictions or ConfusionMatrixDisplay.from_estimator.\n",
            "  warnings.warn(msg, category=FutureWarning)\n"
          ]
        },
        {
          "output_type": "display_data",
          "data": {
            "text/plain": [
              "<Figure size 720x432 with 2 Axes>"
            ],
            "image/png": "[encoded data removed]"
          },
          "metadata": {
            "needs_background": "light"
          }
        }
      ],
      "source": [
        "matrix = plot_confusion_matrix(clf, X_test, y_test, cmap=plt.cm.Greens)\n",
        "matrix.ax_.set_title('Confusion matrix', color='white')\n",
        "plt.xlabel('Predicted Label', color='white')\n",
        "plt.ylabel('True Label', color='white')\n",
        "plt.gcf().axes[0].tick_params(color='white')\n",
        "plt.gcf().axes[1].tick_params(color='white')\n",
        "plt.gcf().set_size_inches(10,6)\n",
        "plt.show()"
      ]
    },
    {
      "cell_type": "markdown",
      "metadata": {
        "id": "Ip7FHxehEaJm"
      },
      "source": [
        "### Testes visuais para esclarecimento"
      ]
    },
    {
      "cell_type": "code",
      "execution_count": 41,
      "metadata": {
        "id": "O5IkfP1Toi84"
      },
      "outputs": [],
      "source": [
        "x = 'Im very happy today'\n",
        "\n",
        "x = get_clean(x)\n",
        "vec = tfidf.transform([x])"
      ]
    },
    {
      "cell_type": "code",
      "execution_count": 42,
      "metadata": {
        "colab": {
          "base_uri": "https://localhost:8080/"
        },
        "id": "rB757XUuo6Zy",
        "outputId": "d0641324-baa5-4e9d-8bcc-118a9065a8c4"
      },
      "outputs": [
        {
          "output_type": "execute_result",
          "data": {
            "text/plain": [
              "(1, 5000)"
            ]
          },
          "metadata": {},
          "execution_count": 42
        }
      ],
      "source": [
        "vec.shape"
      ]
    },
    {
      "cell_type": "code",
      "execution_count": 43,
      "metadata": {
        "colab": {
          "base_uri": "https://localhost:8080/"
        },
        "id": "TiI3x7zSo9YR",
        "outputId": "e54ab862-1727-4922-e220-e730559d36fe"
      },
      "outputs": [
        {
          "output_type": "execute_result",
          "data": {
            "text/plain": [
              "array(['pos'], dtype=object)"
            ]
          },
          "metadata": {},
          "execution_count": 43
        }
      ],
      "source": [
        "clf.predict(vec)"
      ]
    },
    {
      "cell_type": "code",
      "execution_count": 44,
      "metadata": {
        "id": "eoVm9jxgpQLy"
      },
      "outputs": [],
      "source": [
        "x = 'I loved this movie, it made me so happy, thanks <3 :)'\n",
        "\n",
        "x = get_clean(x)\n",
        "vec = tfidf.transform([x])"
      ]
    },
    {
      "cell_type": "code",
      "execution_count": 45,
      "metadata": {
        "colab": {
          "base_uri": "https://localhost:8080/",
          "height": 35
        },
        "id": "T-YtnVYyrAQw",
        "outputId": "f3fa92ab-76ed-4394-b910-70306e94decb"
      },
      "outputs": [
        {
          "output_type": "execute_result",
          "data": {
            "text/plain": [
              "'i loved this movie it made me so happy thanks 3'"
            ],
            "application/vnd.google.colaboratory.intrinsic+json": {
              "type": "string"
            }
          },
          "metadata": {},
          "execution_count": 45
        }
      ],
      "source": [
        "x"
      ]
    },
    {
      "cell_type": "code",
      "execution_count": 46,
      "metadata": {
        "colab": {
          "base_uri": "https://localhost:8080/"
        },
        "id": "jUxfCmgipauq",
        "outputId": "79783f50-e154-474b-8242-40cfd288c233"
      },
      "outputs": [
        {
          "output_type": "execute_result",
          "data": {
            "text/plain": [
              "array(['pos'], dtype=object)"
            ]
          },
          "metadata": {},
          "execution_count": 46
        }
      ],
      "source": [
        "clf.predict(vec)"
      ]
    },
    {
      "cell_type": "code",
      "execution_count": 47,
      "metadata": {
        "id": "bbnDK7ajKGEP"
      },
      "outputs": [],
      "source": [
        "x = 'My life is a mess'\n",
        "x = get_clean(x)\n",
        "vec = tfidf.transform([x])\n"
      ]
    },
    {
      "cell_type": "code",
      "execution_count": 48,
      "metadata": {
        "colab": {
          "base_uri": "https://localhost:8080/"
        },
        "id": "Vu2SOJEwKZ5G",
        "outputId": "543e1891-0ccf-42da-fa9f-f71d0fb702fd"
      },
      "outputs": [
        {
          "output_type": "execute_result",
          "data": {
            "text/plain": [
              "array(['pos'], dtype=object)"
            ]
          },
          "metadata": {},
          "execution_count": 48
        }
      ],
      "source": [
        "clf.predict(vec)"
      ]
    },
    {
      "cell_type": "markdown",
      "metadata": {
        "id": "cFRWQ9jGsUGC"
      },
      "source": [
        "Utilizando diversos métodos classificadores de uma única vez"
      ]
    },
    {
      "cell_type": "code",
      "execution_count": 49,
      "metadata": {
        "colab": {
          "base_uri": "https://localhost:8080/"
        },
        "id": "L_f0rtGosacU",
        "outputId": "8b572983-ae7f-45e4-99ee-3186dc0921cc"
      },
      "outputs": [
        {
          "output_type": "stream",
          "name": "stdout",
          "text": [
            "Nearest-Neighbors - Accuracy:0.7258\n",
            "Linear SVM - Accuracy:0.8814\n",
            "RBF SVM - Accuracy:0.8846\n",
            "Poly SVM - Accuracy:0.8814\n",
            "Decision Tree - Accuracy:0.7\n",
            "Random Forest - Accuracy:0.5364\n",
            "Neural Net - Accuracy:0.8614\n",
            "Adaboost - Accuracy:0.7926\n"
          ]
        }
      ],
      "source": [
        "from sklearn.neural_network import MLPClassifier\n",
        "from sklearn.ensemble import AdaBoostClassifier, RandomForestClassifier\n",
        "from sklearn.svm import SVC\n",
        "\n",
        "names = [\n",
        "         'Nearest-Neighbors',\n",
        "         'Linear SVM',\n",
        "         'RBF SVM',\n",
        "         'Poly SVM',\n",
        "         'Decision Tree',\n",
        "         'Random Forest',\n",
        "         'Neural Net',\n",
        "         'Adaboost',\n",
        "]\n",
        "\n",
        "classifiers = [\n",
        "               KNeighborsClassifier(3),\n",
        "               SVC(kernel = 'linear'),\n",
        "               SVC(gamma = 2, C = 10),\n",
        "               SVC(kernel = 'poly'),\n",
        "               DecisionTreeClassifier(max_depth=5),\n",
        "               RandomForestClassifier(max_depth = 5, n_estimators = 10, max_features = 1),\n",
        "               MLPClassifier(alpha=1, max_iter=1000),\n",
        "               AdaBoostClassifier(),\n",
        "]\n",
        "\n",
        "for name, clf in zip(names, classifiers):\n",
        "  clf.fit(X_train, y_train)\n",
        "  score = clf.score(X_test, y_test)\n",
        "  print(name + ' - Accuracy:' + str(score))"
      ]
    },
    {
      "cell_type": "code",
      "execution_count": 50,
      "metadata": {
        "id": "Inv6BUGNuDUb"
      },
      "outputs": [],
      "source": [
        "# clf = SVC(gamma = 2, C = 10)"
      ]
    },
    {
      "cell_type": "code",
      "execution_count": 51,
      "metadata": {
        "colab": {
          "base_uri": "https://localhost:8080/"
        },
        "id": "xnKyhBOh0Xmq",
        "outputId": "7e5d41a7-d6eb-4b14-8ff6-b9bd00ff7163"
      },
      "outputs": [
        {
          "output_type": "execute_result",
          "data": {
            "text/plain": [
              "AdaBoostClassifier()"
            ]
          },
          "metadata": {},
          "execution_count": 51
        }
      ],
      "source": [
        "clf.fit(X_train, y_train)"
      ]
    },
    {
      "cell_type": "code",
      "execution_count": 51,
      "metadata": {
        "id": "HtjWSg5S0ceb"
      },
      "outputs": [],
      "source": [
        ""
      ]
    }
  ],
  "metadata": {
    "colab": {
      "name": "Sentiment Analysis with SkLearn.ipynb",
      "provenance": [],
      "authorship_tag": "ABX9TyOrXnkmWkBZl12psHRsb5I9",
      "include_colab_link": true
    },
    "kernelspec": {
      "display_name": "Python 3",
      "name": "python3"
    },
    "language_info": {
      "name": "python"
    }
  },
  "nbformat": 4,
  "nbformat_minor": 0
}